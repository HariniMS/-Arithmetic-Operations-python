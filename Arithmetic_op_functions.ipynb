{
  "nbformat": 4,
  "nbformat_minor": 0,
  "metadata": {
    "colab": {
      "name": "Arithmetic_op_functions.ipynb",
      "provenance": [],
      "collapsed_sections": []
    },
    "kernelspec": {
      "name": "python3",
      "display_name": "Python 3"
    }
  },
  "cells": [
    {
      "cell_type": "markdown",
      "metadata": {
        "id": "JWnthRK7JLo_",
        "colab_type": "text"
      },
      "source": [
        "# Python Program to Perform Arithmetic Operations\n",
        "\n",
        "This python program allows the user to enter two numeric values of data type float. \n",
        "\n",
        "Next, we will use those two values to perform the Arithmetic Operations such as Addition, Subtraction, Multiplication, Exponent, Modulus, and Division."
      ]
    },
    {
      "cell_type": "code",
      "metadata": {
        "id": "139rJ6d2Q1m3",
        "colab_type": "code",
        "colab": {
          "base_uri": "https://localhost:8080/",
          "height": 202
        },
        "outputId": "4df64f11-45e1-4ade-b449-19a4bd2b1086"
      },
      "source": [
        "print(\" **** Available choices are  ****\")\n",
        "print(\" 1. Addition  \")\n",
        "print(\" 2. subtraction \")\n",
        "print(\" 3. Multiplication \")\n",
        "print(\" 4. Division \")\n",
        "print(\" 5. Modulus  \")\n",
        "print(\" 6. Exponent \")\n",
        "\n",
        "#taking the choice from the user\n",
        "ch = int(input(\"Enter your choice :  (1/2/3/4/5/6)\"))\n",
        "\n",
        "#taking the 1st number from the user\n",
        "a = float(input(\"Enter the first number : \"))\n",
        "#taking the 2nd number from the user\n",
        "b = float(input(\"Enter the second number : \"))\n",
        "\n",
        "#function to perform addition for 2 numbers\n",
        "def add(a, b):\n",
        "  return a+b\n",
        "\n",
        "#function to subtraction\n",
        "def sub(a, b):\n",
        "  return a-b\n",
        "\n",
        "#function to Multiplication\n",
        "def mul(a, b):\n",
        "  return a*b\n",
        "\n",
        "#function to division\n",
        "def div(a, b):\n",
        "  return a/b\n",
        "\n",
        "#function to modulus\n",
        "def mod(a,b):\n",
        "  return a%b\n",
        "\n",
        "#function to exponent\n",
        "def exp(a,b):\n",
        "  return a**b\n",
        "\n",
        "#if choice is 1, perform addition\n",
        "if ch == 1:\n",
        "  print(\"sum of\", a, \"and\" , b , \"is\" , \": \", add(a,b))\n",
        "#if choice is 2, perform subtraction\n",
        "elif ch == 2:\n",
        "  print(\"sub of\", a, \"and\" , b , \"is\" ,\":\", sub(a,b))\n",
        "#if choice is 3, perform multiplication\n",
        "elif ch == 3:\n",
        "  print(\"Multiplication of\", a, \"and\" , b , \"is\" ,\": \", mul(a,b))\n",
        "#if choice is 4,do division\n",
        "elif ch == 4:\n",
        "  print(\"division of\", a, \"and\" , b , \"is\" , \":\", div(a,b))\n",
        "#if choice is 5, do modulus\n",
        "elif ch == 5:\n",
        "  print(\"Modulus of\", a, \"and\" , b , \"is\" , \": \", mod(a,b))\n",
        "#if choice is 6, exponent\n",
        "elif ch == 6:\n",
        "  print(\"Exponent of\", a, \"and\" , b , \"is\" , \":\", exp(a,b))\n",
        "else:\n",
        "  print(\"Enter the correct choice\")"
      ],
      "execution_count": 1,
      "outputs": [
        {
          "output_type": "stream",
          "text": [
            " **** Available choices are  ****\n",
            " 1. Addition  \n",
            " 2. subtraction \n",
            " 3. Multiplication \n",
            " 4. Division \n",
            " 5. Modulus  \n",
            " 6. Exponent \n",
            "Enter your choice :  (1/2/3/4/5/6)3\n",
            "Enter the first number : 10\n",
            "Enter the second number : 3\n",
            "Multiplication of 10.0 and 3.0 is :  30.0\n"
          ],
          "name": "stdout"
        }
      ]
    }
  ]
}